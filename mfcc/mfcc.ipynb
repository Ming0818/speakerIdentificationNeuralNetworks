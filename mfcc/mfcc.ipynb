{
 "cells": [
  {
   "cell_type": "code",
   "execution_count": null,
   "metadata": {
    "collapsed": true
   },
   "outputs": [],
   "source": [
    "from mfcc import mfcc\n",
    "from mfcc import delta\n",
    "from mfcc import logfbank\n",
    "import scipy.io.wavfile as wav\n"
   ]
  },
  {
   "cell_type": "code",
   "execution_count": null,
   "metadata": {},
   "outputs": [],
   "source": [
    "## Install pip install python_speech_features OR git clone https://github.com/jameslyons/python_speech_features\n",
    "#  python setup.py develop for MFCC Features \n"
   ]
  },
  {
   "cell_type": "code",
   "execution_count": null,
   "metadata": {
    "collapsed": true
   },
   "outputs": [],
   "source": [
    "\n",
    "\n",
    "(rate,sig) = wav.read(\"english.wav\")\n",
    "mfcc_feat = mfcc(sig,rate)\n",
    "d_mfcc_feat = delta(mfcc_feat, 2)\n",
    "fbank_feat = logfbank(sig,rate)\n",
    "\n",
    "print(fbank_feat)\n",
    "\n"
   ]
  }
 ],
 "metadata": {
  "kernelspec": {
   "display_name": "Python 2",
   "language": "python",
   "name": "python2"
  },
  "language_info": {
   "codemirror_mode": {
    "name": "ipython",
    "version": 2
   },
   "file_extension": ".py",
   "mimetype": "text/x-python",
   "name": "python",
   "nbconvert_exporter": "python",
   "pygments_lexer": "ipython2",
   "version": "2.7.6"
  }
 },
 "nbformat": 4,
 "nbformat_minor": 0
}
